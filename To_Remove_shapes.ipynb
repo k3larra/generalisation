{
  "cells": [
    {
      "cell_type": "markdown",
      "metadata": {
        "id": "view-in-github",
        "colab_type": "text"
      },
      "source": [
        "<a href=\"https://colab.research.google.com/github/k3larra/gen1/blob/pc/shapes.ipynb\" target=\"_parent\"><img src=\"https://colab.research.google.com/assets/colab-badge.svg\" alt=\"Open In Colab\"/></a>"
      ]
    },
    {
      "cell_type": "markdown",
      "metadata": {
        "id": "2hTdz9j-fzHH"
      },
      "source": [
        "# On concepts explanations and stuff like that.\n",
        "Raw version \n"
      ]
    },
    {
      "cell_type": "markdown",
      "source": [
        "# Setup"
      ],
      "metadata": {
        "id": "Iwwa9AA2j9Rg"
      }
    },
    {
      "cell_type": "code",
      "execution_count": null,
      "metadata": {
        "colab": {
          "base_uri": "https://localhost:8080/"
        },
        "id": "nJ1mX07G3pSU",
        "outputId": "777a0583-78a9-4e63-b67d-d867658e84e3"
      },
      "outputs": [
        {
          "output_type": "stream",
          "name": "stdout",
          "text": [
            "1.12.0+cu113\n"
          ]
        }
      ],
      "source": [
        "import os\n",
        "import csv\n",
        "import sys\n",
        "import urllib\n",
        "import json\n",
        "import random\n",
        "import time\n",
        "import copy\n",
        "import numpy as np\n",
        "import pandas as pd\n",
        "import torch\n",
        "import torch.nn as nn\n",
        "import torch.nn.functional as F\n",
        "import torchvision\n",
        "import torch.optim as optim\n",
        "from torch.utils.data import DataLoader\n",
        "from torch.utils.data import Dataset\n",
        "from torchvision import datasets\n",
        "from torchvision.io import read_image\n",
        "from torch.optim import lr_scheduler\n",
        "from torchvision import models\n",
        "from torchvision import transforms\n",
        "from torchvision.transforms import functional as transformsF\n",
        "from os import listdir\n",
        "from os.path import isfile, join\n",
        "from io import StringIO \n",
        "from io import BytesIO\n",
        "from matplotlib.colors import LinearSegmentedColormap\n",
        "from PIL import Image\n",
        "import matplotlib.pyplot as plt\n",
        "from zipfile import ZipFile\n",
        "from random import randint\n",
        "print(torch.__version__)"
      ]
    },
    {
      "cell_type": "code",
      "source": [
        "# Set random seed for reproducibility.\n",
        "np.random.seed(131254)\n",
        "device = torch.device(\"cuda:0\" if torch.cuda.is_available() else \"cpu\")"
      ],
      "metadata": {
        "id": "J6G96dBAckm7"
      },
      "execution_count": null,
      "outputs": []
    },
    {
      "cell_type": "code",
      "execution_count": null,
      "metadata": {
        "colab": {
          "base_uri": "https://localhost:8080/"
        },
        "id": "JMlRXuGDCP50",
        "outputId": "3948d9e4-547a-4089-f525-2bf7f7943cc3"
      },
      "outputs": [
        {
          "output_type": "stream",
          "name": "stdout",
          "text": [
            "Mounted at /content/drive\n"
          ]
        }
      ],
      "source": [
        "from google.colab import drive\n",
        "drive.mount('/content/drive')"
      ]
    },
    {
      "cell_type": "markdown",
      "source": [
        "### Training set"
      ],
      "metadata": {
        "id": "CmP9NmdrRMot"
      }
    },
    {
      "cell_type": "code",
      "execution_count": null,
      "metadata": {
        "id": "mcvX2E8pVLhP",
        "colab": {
          "base_uri": "https://localhost:8080/"
        },
        "outputId": "100a9833-e62e-431b-9149-4d6a6842a3df"
      },
      "outputs": [
        {
          "output_type": "stream",
          "name": "stdout",
          "text": [
            "Looking in indexes: https://pypi.org/simple, https://us-python.pkg.dev/colab-wheels/public/simple/\n",
            "Requirement already satisfied: kaggle in /usr/local/lib/python3.7/dist-packages (1.5.12)\n",
            "Requirement already satisfied: requests in /usr/local/lib/python3.7/dist-packages (from kaggle) (2.23.0)\n",
            "Requirement already satisfied: python-dateutil in /usr/local/lib/python3.7/dist-packages (from kaggle) (2.8.2)\n",
            "Requirement already satisfied: tqdm in /usr/local/lib/python3.7/dist-packages (from kaggle) (4.64.0)\n",
            "Requirement already satisfied: certifi in /usr/local/lib/python3.7/dist-packages (from kaggle) (2022.6.15)\n",
            "Requirement already satisfied: python-slugify in /usr/local/lib/python3.7/dist-packages (from kaggle) (6.1.2)\n",
            "Requirement already satisfied: urllib3 in /usr/local/lib/python3.7/dist-packages (from kaggle) (1.24.3)\n",
            "Requirement already satisfied: six>=1.10 in /usr/local/lib/python3.7/dist-packages (from kaggle) (1.15.0)\n",
            "Requirement already satisfied: text-unidecode>=1.3 in /usr/local/lib/python3.7/dist-packages (from python-slugify->kaggle) (1.3)\n",
            "Requirement already satisfied: idna<3,>=2.5 in /usr/local/lib/python3.7/dist-packages (from requests->kaggle) (2.10)\n",
            "Requirement already satisfied: chardet<4,>=3.0.2 in /usr/local/lib/python3.7/dist-packages (from requests->kaggle) (3.0.4)\n",
            "Downloading four-shapes.zip to /content\n",
            "100% 21.6M/21.6M [00:00<00:00, 39.6MB/s]\n",
            "100% 21.6M/21.6M [00:00<00:00, 32.5MB/s]\n"
          ]
        }
      ],
      "source": [
        "#The kaggle token\n",
        "!pip install kaggle\n",
        "!mkdir ~/.kaggle\n",
        "!touch ~/.kaggle/kaggle.json\n",
        "api_token = {\"username\":\"larsholmberg\",\"key\":\"4b2c0a02173702dff658e9ba068fb558\"}\n",
        "with open('/root/.kaggle/kaggle.json', 'w') as file:\n",
        "    json.dump(api_token, file)\n",
        "!chmod 600 ~/.kaggle/kaggle.json\n",
        "! kaggle datasets download smeschke/four-shapes\n",
        "with ZipFile('/content/four-shapes.zip', 'r') as archive:\n",
        "  archive.extractall('/content')"
      ]
    },
    {
      "cell_type": "markdown",
      "source": [
        "###Test set\n"
      ],
      "metadata": {
        "id": "ekn5BU5URIe9"
      }
    },
    {
      "cell_type": "code",
      "execution_count": null,
      "metadata": {
        "colab": {
          "base_uri": "https://localhost:8080/"
        },
        "id": "bUc22yQaeVAq",
        "outputId": "b2e47621-3de5-4395-8443-0c8bc3505c65"
      },
      "outputs": [
        {
          "output_type": "stream",
          "name": "stdout",
          "text": [
            "Cloning into 'XAI-F'...\n",
            "remote: Enumerating objects: 89, done.\u001b[K\n",
            "remote: Counting objects: 100% (86/86), done.\u001b[K\n",
            "remote: Compressing objects: 100% (60/60), done.\u001b[K\n",
            "remote: Total 89 (delta 36), reused 68 (delta 26), pack-reused 3\u001b[K\n",
            "Unpacking objects: 100% (89/89), done.\n"
          ]
        }
      ],
      "source": [
        "! git clone https://github.com/k3larra/XAI-F\n",
        "with ZipFile('/content/XAI-F/testset.zip', 'r') as archive:\n",
        "  archive.extractall('/content/testshapes')\n"
      ]
    },
    {
      "cell_type": "markdown",
      "metadata": {
        "id": "RRw7FfUxQxqT"
      },
      "source": [
        "## Dataloader\n"
      ]
    },
    {
      "cell_type": "code",
      "execution_count": null,
      "metadata": {
        "id": "pBxmse55Mm4C"
      },
      "outputs": [],
      "source": [
        "# create the annotation file for the tests!\n",
        "shape_path = \"/content/testshapes\"\n",
        "with open(shape_path + '/shapes.csv', 'w', newline='') as file:\n",
        "    writer = csv.writer(file)\n",
        "    writer.writerow(['image_location', 'label']) # Write header\n",
        "    for dirs in listdir(shape_path):\n",
        "        # print(dirs)\n",
        "        if(dirs.endswith(\".csv\")):\n",
        "            continue\n",
        "        for f in listdir(join(shape_path, dirs)):\n",
        "            if(join(shape_path, dirs, f).endswith(\".csv\")):\n",
        "                continue\n",
        "            elif isfile(join(shape_path, dirs, f)):\n",
        "                writer.writerow([join(dirs, f), dirs])"
      ]
    },
    {
      "cell_type": "code",
      "execution_count": null,
      "metadata": {
        "id": "rS18X7Y_Grm5"
      },
      "outputs": [],
      "source": [
        "# create the annotation file for the training!\n",
        "shape_path = \"/content/shapes\"\n",
        "shapes_to_ignore = ['0.png', '1.png', '2.png', '3.png', '4.png', '5.png', '6.png', '7.png', '8.png', '9.png']\n",
        "labels_to_ignore = []\n",
        "with open('/content/shapes/shapes.csv', 'w', newline='') as file:\n",
        "    writer = csv.writer(file)\n",
        "    writer.writerow(['image_location', 'label']) # Write header\n",
        "    for dirs in listdir(\"/content/shapes\"):\n",
        "        if dirs in labels_to_ignore: #Ignore label!\n",
        "          continue\n",
        "#         print(dirs)\n",
        "        if(dirs.endswith(\".csv\")):\n",
        "            continue\n",
        "        for f in listdir(join(\"/content/shapes\", dirs)):\n",
        "            if f in shapes_to_ignore: #ignore the images! \n",
        "              continue\n",
        "            elif(join(\"/content/shapes\", dirs, f).endswith(\".csv\")):\n",
        "                continue\n",
        "            elif isfile(join(\"/content/shapes\", dirs, f)):\n",
        "                writer.writerow([join(dirs, f), dirs])"
      ]
    },
    {
      "cell_type": "code",
      "execution_count": null,
      "metadata": {
        "id": "CaQszONASVun"
      },
      "outputs": [],
      "source": [
        "num_classes = 4\n",
        "possible_labels = {\"circle\": 0, \"square\": 1, \"star\": 2, \"triangle\": 3}\n",
        "key_list = list(possible_labels.keys())\n",
        "val_list = list(possible_labels.values())\n",
        "def label_to_idx(label):\n",
        "  return possible_labels[label]\n",
        "def idx_to_label(idx):\n",
        "  position = val_list.index(idx)\n",
        "  return key_list[position]"
      ]
    },
    {
      "cell_type": "code",
      "execution_count": null,
      "metadata": {
        "id": "M0uiQeWtF77u"
      },
      "outputs": [],
      "source": [
        "class CustomImageDataset(Dataset):\n",
        "    def __init__(self, annotations_file, img_dir, transform=None, target_transform=None):\n",
        "        self.img_labels = pd.read_csv(annotations_file)\n",
        "        self.img_dir = img_dir\n",
        "        self.transform = transform\n",
        "        self.target_transform = target_transform\n",
        "        self.resizer = transforms.Resize(size=(299, 299)) \n",
        "    def __len__(self):\n",
        "        return len(self.img_labels)\n",
        "    def __getitem__(self, idx):\n",
        "        img_path = os.path.join(self.img_dir, self.img_labels.iloc[idx, 0])\n",
        "        image = read_image(img_path) # Converts to tensor\n",
        "        image = image.float()\n",
        "        image /= 255.\n",
        "        label = self.img_labels.iloc[idx, 1]\n",
        "        label = torch.tensor(label_to_idx(label))\n",
        "        # ADDDITIONS TO TRANSFORM THE INPUT\n",
        "        r = random.random() # 33% (equal probability) to zoom-in, zoom-out, dont transform\n",
        "        if r < 0.33: # We zoom-in the shape!\n",
        "          top = random.randrange(0, 40) \n",
        "          left = top\n",
        "          dif = 40 - top\n",
        "          w = 120 + dif\n",
        "          h = w\n",
        "          image = transformsF.resized_crop(image, top, left, h, w, size=(200, 200))\n",
        "        elif r < 0.66: # We zoom-out the shape!\n",
        "          pad = random.randrange(0, 300)\n",
        "          image = transforms.Pad(padding=pad, fill=1)(image)\n",
        "        #else: #We just use the image as is!\n",
        "        image = self.resizer(image)\n",
        "        # END OF ADDITIONS!\n",
        "        if self.transform:\n",
        "            image = self.transform(image)\n",
        "        if self.target_transform:\n",
        "            label = self.target_transform(label)\n",
        "        image = image.repeat(3, 1, 1)\n",
        "        return image, label"
      ]
    },
    {
      "cell_type": "markdown",
      "source": [
        "## Create train and validation set"
      ],
      "metadata": {
        "id": "RzK1v3DmOiAU"
      }
    },
    {
      "cell_type": "code",
      "execution_count": null,
      "metadata": {
        "colab": {
          "base_uri": "https://localhost:8080/"
        },
        "id": "ju_rH2RdKKGT",
        "outputId": "615bb996-3d0e-4763-eb73-37b64e231498"
      },
      "outputs": [
        {
          "output_type": "stream",
          "name": "stdout",
          "text": [
            "Input type and shape <class 'torch.Tensor'>   torch.Size([3, 299, 299])\n",
            "Label type and shape <class 'torch.Tensor'>   torch.Size([])\n",
            "Training set size 13437\n",
            "Validation set size 1493\n"
          ]
        }
      ],
      "source": [
        "shapes_dataset = CustomImageDataset('/content/shapes/shapes.csv', '/content/shapes')\n",
        "input, label = shapes_dataset[0]\n",
        "print('Input type and shape',type(input),' ',input.shape)\n",
        "print('Label type and shape',type(label),' ',label.shape)\n",
        "training_size = int(len(shapes_dataset)*0.9)\n",
        "validation_size = int(len(shapes_dataset) - training_size)\n",
        "print('Training set size',training_size)\n",
        "print('Validation set size',validation_size)\n",
        "train_set, val_set = torch.utils.data.random_split(shapes_dataset, [training_size, validation_size])\n",
        "training_loader = DataLoader(train_set, batch_size=32, shuffle=True)  #32,64\n",
        "validation_loader = DataLoader(val_set, batch_size=32, shuffle=True)  #32,64"
      ]
    },
    {
      "cell_type": "markdown",
      "metadata": {
        "id": "4i6NRPbZ8p8p"
      },
      "source": [
        "# Training set information "
      ]
    },
    {
      "cell_type": "code",
      "execution_count": null,
      "metadata": {
        "colab": {
          "base_uri": "https://localhost:8080/",
          "height": 245
        },
        "id": "S66ZZUxiN5wb",
        "outputId": "416e127e-702a-4b30-f185-c58617f67cc2"
      },
      "outputs": [
        {
          "output_type": "display_data",
          "data": {
            "text/plain": [
              "<Figure size 864x288 with 12 Axes>"
            ],
            "image/png": "[encoded data removed]"
          },
          "metadata": {
            "needs_background": "light"
          }
        }
      ],
      "source": [
        "figure = plt.figure(figsize=(12, 4))\n",
        "cols, rows = 6, 2\n",
        "for i in range(1, cols * rows + 1):\n",
        "    sample_idx = torch.randint(len(shapes_dataset), size=(1,)).item() # Get rnd_id\n",
        "    sample = shapes_dataset[sample_idx] # index dataset (gets you the img and label - index)\n",
        "    img, label = shapes_dataset[sample_idx] # index dataset (gets you the img and label - index)\n",
        "    figure.add_subplot(rows, cols, i)\n",
        "    plt.axis(\"off\")\n",
        "    plt.imshow(img.permute(1,2,0)) # put channel as the last dimension\n",
        "plt.show()"
      ]
    },
    {
      "cell_type": "code",
      "source": [
        "for inputs, labels in training_loader:\n",
        "  print(inputs.shape)\n",
        "  print('Training set size',int(len(inputs)))\n",
        "  #print(inputs)\n",
        "  print(labels.shape)\n",
        "  break"
      ],
      "metadata": {
        "id": "Scyvu5mweyC_",
        "colab": {
          "base_uri": "https://localhost:8080/"
        },
        "outputId": "d13bb82e-51d7-42f7-f62e-6db17eb4debd"
      },
      "execution_count": null,
      "outputs": [
        {
          "output_type": "stream",
          "name": "stdout",
          "text": [
            "torch.Size([16, 3, 299, 299])\n",
            "Training set size 16\n",
            "torch.Size([16])\n"
          ]
        }
      ]
    },
    {
      "cell_type": "markdown",
      "source": [
        "# Train and save models"
      ],
      "metadata": {
        "id": "Acil7fv1Y-nP"
      }
    },
    {
      "cell_type": "code",
      "execution_count": null,
      "metadata": {
        "id": "9l0Co_PqRVol"
      },
      "outputs": [],
      "source": [
        "def train_model(model, criterion, optimizer):\n",
        "    since = time.time()\n",
        "    best_acc = 0.0\n",
        "    model.train()   # Set model to train mode\n",
        "    running_loss = 0.0\n",
        "    running_corrects = 0\n",
        "    for inputs, labels in training_loader:\n",
        "        inputs = inputs.to(device)\n",
        "        labels = labels.to(device)\n",
        "        outputs = model(inputs)\n",
        "        _, preds = torch.max(outputs, 1)\n",
        "        loss = criterion(outputs, labels)    \n",
        "        # zero the parameter gradients\n",
        "        optimizer.zero_grad()\n",
        "        loss.backward()\n",
        "        optimizer.step()     \n",
        "        running_loss += loss.item() * inputs.size(0)\n",
        "        running_corrects += torch.sum(preds == labels.data)     \n",
        "    epoch_loss = running_loss / training_size\n",
        "    epoch_acc = running_corrects.double() / training_size\n",
        "    print('train Loss: {:.4f} Acc: {:.4f}'.format(\n",
        "         epoch_loss, epoch_acc))\n",
        "    \n",
        "def test_model(model, criterion):\n",
        "  since = time.time()\n",
        "  best_acc = 0.0\n",
        "  model.eval()   # Set model to evaluate mode\n",
        "  running_loss = 0.0\n",
        "  running_corrects = 0\n",
        "  for inputs, labels in validation_loader:\n",
        "      inputs = inputs.to(device)\n",
        "      labels = labels.to(device)\n",
        "      outputs = model(inputs)\n",
        "      _, preds = torch.max(outputs, 1)\n",
        "      loss = criterion(outputs, labels)\n",
        "      running_loss += loss.item() * inputs.size(0)\n",
        "      running_corrects += torch.sum(preds == labels.data)\n",
        "  epoch_loss = running_loss / validation_size\n",
        "  epoch_acc = running_corrects.double() / validation_size\n",
        "  print('test Loss: {:.4f} Acc: {:.4f}'.format(\n",
        "      epoch_loss, epoch_acc))"
      ]
    },
    {
      "cell_type": "code",
      "execution_count": null,
      "metadata": {
        "colab": {
          "base_uri": "https://localhost:8080/"
        },
        "id": "i3zDqZ0QRlhj",
        "outputId": "3436392e-2929-4faa-a55e-8c00ac6656f4"
      },
      "outputs": [
        {
          "output_type": "stream",
          "name": "stderr",
          "text": [
            "Downloading: \"https://github.com/pytorch/vision/zipball/v0.10.0\" to /root/.cache/torch/hub/v0.10.0.zip\n",
            "/usr/local/lib/python3.7/dist-packages/torchvision/models/_utils.py:209: UserWarning: The parameter 'pretrained' is deprecated since 0.13 and will be removed in 0.15, please use 'weights' instead.\n",
            "  f\"The parameter '{pretrained_param}' is deprecated since 0.13 and will be removed in 0.15, \"\n",
            "/usr/local/lib/python3.7/dist-packages/torchvision/models/_utils.py:223: UserWarning: Arguments other than a weight enum or `None` for 'weights' are deprecated since 0.13 and will be removed in 0.15. The current behavior is equivalent to passing `weights=None`.\n",
            "  warnings.warn(msg)\n"
          ]
        },
        {
          "output_type": "stream",
          "name": "stdout",
          "text": [
            "Training: resnet_50_4\n",
            "Epoch 0/3\n",
            "\n",
            "train Loss: 0.7079 Acc: 0.6730\n",
            "test Loss: 0.2057 Acc: 0.9658\n",
            "Epoch 1/3\n",
            "\n",
            "train Loss: 0.1703 Acc: 0.9472\n",
            "test Loss: 0.0452 Acc: 0.9926\n",
            "Epoch 2/3\n",
            "\n",
            "train Loss: 0.0853 Acc: 0.9762\n",
            "test Loss: 0.0260 Acc: 0.9967\n",
            "Epoch 3/3\n",
            "\n",
            "train Loss: 0.0686 Acc: 0.9792\n",
            "test Loss: 0.0059 Acc: 0.9993\n"
          ]
        }
      ],
      "source": [
        "#test_names=['resnet_50','resnet_152','inception_v3','efficientnet_b4']\n",
        "test_names=['resnet_50_4']\n",
        "#XAI_save_path = '/content/drive/MyDrive/ColabNotebooks/Phase3/Nature/study1/'\n",
        "model_save_path = '/content/drive/MyDrive/ColabNotebooks/Phase3/Nature/'\n",
        "torch.hub._validate_not_a_forked_repo=lambda a,b,c: True # https://github.com/pytorch/pytorch/issues/61755\n",
        "model_ft=None\n",
        "for test_name in test_names:\n",
        "  model_weights_no_pretrained = model_save_path + 'shapes_'+test_name+'_weights_model_not_pretrained.pth'\n",
        "  complete_model_no_pretrained = model_save_path + 'shapes_'+test_name+'_complete_model_not_pretrained.pth'\n",
        "  if test_name == 'resnet_50_4':\n",
        "    model_ft = torch.hub.load('pytorch/vision:v0.10.0', 'resnet50', pretrained=False)\n",
        "    model_ft.fc =  nn.Linear(in_features=model_ft.fc.in_features, out_features=num_classes, bias=True)\n",
        "  elif test_name == 'resnet_152':\n",
        "    model_ft = torch.hub.load('pytorch/vision:v0.10.0', 'resnet152', pretrained=False)\n",
        "    model_ft.fc =  nn.Linear(in_features=model_ft.fc.in_features, out_features=num_classes, bias=True)\n",
        "  elif test_name == 'inception_v3':\n",
        "    model_ft = torch.hub.load('pytorch/vision:v0.10.0', 'inception_v3', pretrained=False)\n",
        "    model_ft.aux_logits=False  \n",
        "    model_ft.fc =  nn.Linear(in_features=model_ft.fc.in_features, out_features=num_classes, bias=True)\n",
        "  elif test_name == 'efficientnet_b4':\n",
        "    # _b4\n",
        "    model_ft = torch.hub.load('NVIDIA/DeepLearningExamples:torchhub', 'nvidia_efficientnet_b4', pretrained=False)\n",
        "    model_ft.fc =  nn.Linear(in_features=2048, out_features=num_classes, bias=True)\n",
        "  else:\n",
        "    print('--')\n",
        "  model_ft.eval()\n",
        "  print(\"Training:\",test_name)\n",
        "  model_ft = model_ft.to(device)\n",
        "  num_epochs = 4\n",
        "  criterion = nn.CrossEntropyLoss()\n",
        "  optimizer_ft = optim.SGD(model_ft.parameters(), lr=0.001, momentum=0.9)\n",
        "  scheduler = lr_scheduler.StepLR(optimizer_ft, step_size=7, gamma=0.1)\n",
        "  for epoch in range(num_epochs):\n",
        "      print('Epoch {}/{}'.format(epoch, num_epochs - 1))\n",
        "      print()\n",
        "      train_model(model_ft, criterion, optimizer_ft)\n",
        "      test_model(model_ft, criterion)\n",
        "      scheduler.step()\n",
        "  torch.save(model_ft.state_dict(), model_weights_no_pretrained)\n",
        "  torch.save(model_ft, complete_model_no_pretrained)"
      ]
    }
  ],
  "metadata": {
    "accelerator": "GPU",
    "colab": {
      "collapsed_sections": [
        "4i6NRPbZ8p8p"
      ],
      "name": "shapes.ipynb",
      "provenance": [],
      "include_colab_link": true
    },
    "kernelspec": {
      "display_name": "Python 3",
      "name": "python3"
    },
    "language_info": {
      "name": "python"
    },
    "gpuClass": "standard"
  },
  "nbformat": 4,
  "nbformat_minor": 0
}